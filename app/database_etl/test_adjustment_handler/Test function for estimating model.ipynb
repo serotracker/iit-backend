{
 "cells": [
  {
   "cell_type": "code",
   "execution_count": 14,
   "id": "6cbccd07",
   "metadata": {},
   "outputs": [],
   "source": [
    "from app.database_etl.test_adjustment_handler import TestAdjHandler, testadj_model_code, bastos_estimates\n"
   ]
  },
  {
   "cell_type": "code",
   "execution_count": 15,
   "id": "e8700f5d",
   "metadata": {},
   "outputs": [
    {
     "name": "stdout",
     "output_type": "stream",
     "text": [
      "Using cached StanModel at filepath stanmodelcache-model1-753f7bf108f3db77b2801621e90672e1.pkl\n"
     ]
    }
   ],
   "source": [
    "testadjHandler = TestAdjHandler(model_code=testadj_model_code, model_name=\"model1\")"
   ]
  },
  {
   "cell_type": "code",
   "execution_count": 19,
   "id": "ddcfe470",
   "metadata": {},
   "outputs": [],
   "source": [
    "test_type = 'ELISA'\n",
    "se = bastos_estimates[test_type]['se']['50']\n",
    "sp = bastos_estimates[test_type]['sp']['50']\n",
    "se_n = bastos_estimates[test_type]['se']['n']\n",
    "sp_n = bastos_estimates[test_type]['sp']['n']\n",
    "            \n",
    "            \n",
    "\n",
    "model_params = dict(\n",
    "                    n_prev_obs=int(500),\n",
    "                    y_prev_obs=int(10),\n",
    "                    n_se=int(se_n),\n",
    "                    y_se=int(se_n * se),\n",
    "                    n_sp=int(sp_n),\n",
    "                    y_sp=int(sp_n * sp)\n",
    "                )\n",
    "\n"
   ]
  },
  {
   "cell_type": "code",
   "execution_count": null,
   "id": "18a09989",
   "metadata": {},
   "outputs": [],
   "source": [
    "summary_df_parsed, satisfactory_model_found = testadjHandler.fit_one_pystan_model(model_params)\n"
   ]
  },
  {
   "cell_type": "code",
   "execution_count": 20,
   "id": "b43d6189",
   "metadata": {},
   "outputs": [
    {
     "data": {
      "text/plain": [
       "{'n_prev_obs': 500,\n",
       " 'y_prev_obs': 10,\n",
       " 'n_se': 766,\n",
       " 'y_se': 579,\n",
       " 'n_sp': 1109,\n",
       " 'y_sp': 1082}"
      ]
     },
     "execution_count": 20,
     "metadata": {},
     "output_type": "execute_result"
    }
   ],
   "source": []
  },
  {
   "cell_type": "code",
   "execution_count": null,
   "id": "1b963c6e",
   "metadata": {},
   "outputs": [],
   "source": []
  }
 ],
 "metadata": {
  "kernelspec": {
   "display_name": "myenv",
   "language": "python",
   "name": "myenv"
  },
  "language_info": {
   "codemirror_mode": {
    "name": "ipython",
    "version": 3
   },
   "file_extension": ".py",
   "mimetype": "text/x-python",
   "name": "python",
   "nbconvert_exporter": "python",
   "pygments_lexer": "ipython3",
   "version": "3.8.3"
  }
 },
 "nbformat": 4,
 "nbformat_minor": 5
}
